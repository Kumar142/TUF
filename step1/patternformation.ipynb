{
 "cells": [
  {
   "cell_type": "code",
   "execution_count": 12,
   "metadata": {},
   "outputs": [],
   "source": [
    "def pattern1(n):\n",
    "    for i in range(n):\n",
    "        for j in range(n):\n",
    "            print(\"*\",end= \"\")\n",
    "        print()"
   ]
  },
  {
   "cell_type": "code",
   "execution_count": 13,
   "metadata": {},
   "outputs": [
    {
     "name": "stdout",
     "output_type": "stream",
     "text": [
      "*****\n",
      "*****\n",
      "*****\n",
      "*****\n",
      "*****\n"
     ]
    }
   ],
   "source": [
    "pattern1(5)"
   ]
  },
  {
   "cell_type": "code",
   "execution_count": 14,
   "metadata": {},
   "outputs": [],
   "source": [
    "def pattern2(n):\n",
    "    for i in range(n):\n",
    "        for j in range(i+1):\n",
    "            print(\"*\",end= \"\")\n",
    "        print()"
   ]
  },
  {
   "cell_type": "code",
   "execution_count": 15,
   "metadata": {},
   "outputs": [
    {
     "name": "stdout",
     "output_type": "stream",
     "text": [
      "*\n",
      "**\n",
      "***\n",
      "****\n"
     ]
    }
   ],
   "source": [
    "pattern2(4)"
   ]
  },
  {
   "cell_type": "code",
   "execution_count": 16,
   "metadata": {},
   "outputs": [],
   "source": [
    "def pattern3(n):\n",
    "    for i in range(n):\n",
    "        for j in range(i+1):\n",
    "            print(j+1,end= \"\")\n",
    "        print()"
   ]
  },
  {
   "cell_type": "code",
   "execution_count": 17,
   "metadata": {},
   "outputs": [
    {
     "name": "stdout",
     "output_type": "stream",
     "text": [
      "1\n",
      "12\n",
      "123\n",
      "1234\n",
      "12345\n"
     ]
    }
   ],
   "source": [
    "pattern3(5)"
   ]
  },
  {
   "cell_type": "code",
   "execution_count": 18,
   "metadata": {},
   "outputs": [],
   "source": [
    "def pattern4(n):\n",
    "    for i in range(n):\n",
    "        for j in range(i+1):\n",
    "            print(i+1,end= \"\")\n",
    "        print()"
   ]
  },
  {
   "cell_type": "code",
   "execution_count": 19,
   "metadata": {},
   "outputs": [
    {
     "name": "stdout",
     "output_type": "stream",
     "text": [
      "1\n",
      "22\n",
      "333\n",
      "4444\n",
      "55555\n"
     ]
    }
   ],
   "source": [
    "pattern4(5)"
   ]
  },
  {
   "cell_type": "code",
   "execution_count": 20,
   "metadata": {},
   "outputs": [],
   "source": [
    "def pattern5(n):\n",
    "    for i in range(n):\n",
    "        for j in range(n-i):\n",
    "            print(\"*\",end= \"\")\n",
    "        print()"
   ]
  },
  {
   "cell_type": "code",
   "execution_count": 21,
   "metadata": {},
   "outputs": [
    {
     "name": "stdout",
     "output_type": "stream",
     "text": [
      "*****\n",
      "****\n",
      "***\n",
      "**\n",
      "*\n"
     ]
    }
   ],
   "source": [
    "pattern5(5)"
   ]
  },
  {
   "cell_type": "code",
   "execution_count": null,
   "metadata": {},
   "outputs": [],
   "source": [
    "2n+1\n",
    "2n+1 - (2i+1) = 2(n-i) = n-i\n",
    "2n+1 - (n-i) = n+i+1\n",
    "\n",
    "n+i+1 + n -i = 2n+1\n",
    " "
   ]
  },
  {
   "cell_type": "code",
   "execution_count": null,
   "metadata": {},
   "outputs": [],
   "source": [
    "n-i,2i + 1, n-i"
   ]
  },
  {
   "cell_type": "code",
   "execution_count": null,
   "metadata": {},
   "outputs": [],
   "source": [
    "4 1 4\n",
    "3 3 3\n",
    "2 5 2\n",
    "1 7 1\n",
    "0 9 0\n",
    "\n"
   ]
  },
  {
   "cell_type": "code",
   "execution_count": 85,
   "metadata": {},
   "outputs": [],
   "source": [
    "def pattern6(n):\n",
    "    for i in range(n):\n",
    "        for j in range(n-i-1):\n",
    "            print(\" \",end=\"\")\n",
    "        for j in range(2*i+1):\n",
    "            print(\"*\", end = \"\")\n",
    "        for j in range(n-i-1):\n",
    "            print(\" \",end=\"\")    \n",
    "        print() \n",
    "\n",
    "     "
   ]
  },
  {
   "cell_type": "code",
   "execution_count": 86,
   "metadata": {},
   "outputs": [
    {
     "name": "stdout",
     "output_type": "stream",
     "text": [
      "   *   \n",
      "  ***  \n",
      " ***** \n",
      "*******\n"
     ]
    }
   ],
   "source": [
    "pattern6(4)"
   ]
  },
  {
   "cell_type": "code",
   "execution_count": null,
   "metadata": {},
   "outputs": [],
   "source": [
    "0,9,0\n",
    "1,7,1\n",
    "2,5,2\n",
    "3 3 3\n",
    "4 1 4\n"
   ]
  },
  {
   "cell_type": "code",
   "execution_count": 87,
   "metadata": {},
   "outputs": [],
   "source": [
    "def pattern7(n):\n",
    "    for i in range(n):\n",
    "        for j in range(i):\n",
    "            print(\" \",end=\"\")\n",
    "        for j in range(2*(n-i-1)+1):\n",
    "            print(\"*\", end = \"\")\n",
    "        for j in range(i):\n",
    "            print(\" \",end=\"\")    \n",
    "        print()  "
   ]
  },
  {
   "cell_type": "code",
   "execution_count": 88,
   "metadata": {},
   "outputs": [
    {
     "name": "stdout",
     "output_type": "stream",
     "text": [
      "*******\n",
      " ***** \n",
      "  ***  \n",
      "   *   \n"
     ]
    }
   ],
   "source": [
    "pattern7(4)"
   ]
  },
  {
   "cell_type": "code",
   "execution_count": 93,
   "metadata": {},
   "outputs": [],
   "source": [
    "def pattern8(n):\n",
    "    for i in range(n):\n",
    "        for j in range(n-i-1):\n",
    "            print(\" \",end=\"\")\n",
    "        for j in range(2*i+1):\n",
    "            print(\"*\", end = \"\")\n",
    "        for j in range(n-i-1):\n",
    "            print(\" \",end=\"\")    \n",
    "        print() \n",
    "    pattern7(n)\n"
   ]
  },
  {
   "cell_type": "code",
   "execution_count": 94,
   "metadata": {},
   "outputs": [
    {
     "name": "stdout",
     "output_type": "stream",
     "text": [
      "    *    \n",
      "   ***   \n",
      "  *****  \n",
      " ******* \n",
      "*********\n",
      "*********\n",
      " ******* \n",
      "  *****  \n",
      "   ***   \n",
      "    *    \n"
     ]
    }
   ],
   "source": [
    "pattern8(5)"
   ]
  },
  {
   "cell_type": "code",
   "execution_count": null,
   "metadata": {},
   "outputs": [],
   "source": [
    "*\n",
    "**\n",
    "***\n",
    "****\n",
    "*****\n",
    "****\n",
    "***\n",
    "**\n",
    "*"
   ]
  },
  {
   "cell_type": "code",
   "execution_count": null,
   "metadata": {},
   "outputs": [],
   "source": [
    "\n",
    "2n-1\n",
    "2n-i-1"
   ]
  },
  {
   "cell_type": "code",
   "execution_count": 97,
   "metadata": {},
   "outputs": [
    {
     "name": "stdout",
     "output_type": "stream",
     "text": [
      "*\n",
      "**\n",
      "***\n",
      "****\n",
      "*****\n",
      "****\n",
      "***\n",
      "**\n",
      "*\n"
     ]
    }
   ],
   "source": [
    "def pattern9(n):\n",
    "    for i in range(2*n-1):\n",
    "        if i <n:\n",
    "            for j in range(i+1):\n",
    "                print(\"*\",end =\"\")\n",
    "        else:\n",
    "            for j in range(2*n-1-i):\n",
    "                print(\"*\",end =\"\")   \n",
    "        print()\n",
    "\n",
    "pattern9(5)\n",
    "        "
   ]
  },
  {
   "cell_type": "code",
   "execution_count": null,
   "metadata": {},
   "outputs": [],
   "source": [
    "1\n",
    "0 1\n",
    "0 1 0\n",
    "1 0 1 0\n",
    "1 0 1 0 1"
   ]
  },
  {
   "cell_type": "code",
   "execution_count": null,
   "metadata": {},
   "outputs": [],
   "source": [
    "1 + 2+ 3+ 4+5 n(n+1)/2\n"
   ]
  },
  {
   "cell_type": "code",
   "execution_count": 100,
   "metadata": {},
   "outputs": [
    {
     "name": "stdout",
     "output_type": "stream",
     "text": [
      "1\n",
      "01\n",
      "010\n",
      "1010\n",
      "10101\n",
      "010101\n"
     ]
    }
   ],
   "source": [
    "def pattern10(n):\n",
    "    for i in range(n):\n",
    "        num = (i)*(i+1)/2\n",
    "        if num % 2 == 0:\n",
    "            start = 1\n",
    "            e = 0\n",
    "        else:\n",
    "            start = 0\n",
    "            e = 1\n",
    "        for j in range(i+1):\n",
    "            if j%2 == 0:\n",
    "                print(start,end = \"\")\n",
    "            else:\n",
    "                print(e,end = \"\")\n",
    "        print()\n",
    "pattern10(6)"
   ]
  },
  {
   "cell_type": "code",
   "execution_count": 104,
   "metadata": {},
   "outputs": [
    {
     "name": "stdout",
     "output_type": "stream",
     "text": [
      "1      1\n",
      "12    21\n",
      "123  321\n",
      "12344321\n"
     ]
    }
   ],
   "source": [
    "def pattern12(n):\n",
    "    for i in range(n):\n",
    "        for j in range(i+1):\n",
    "            print(j+1,end = \"\")\n",
    "        for j in range(2*n-2*(i+1)):\n",
    "            print(\" \", end = \"\")\n",
    "        for j in range(i+1):\n",
    "            print(i + 1 -j, end  = \"\")\n",
    "        print()\n",
    "\n",
    "pattern12(4)"
   ]
  },
  {
   "cell_type": "code",
   "execution_count": null,
   "metadata": {},
   "outputs": [],
   "source": [
    "1\n",
    "2 3\n",
    "4 5 6\n",
    "7 8 9 10\n",
    "11 12 13 14 15"
   ]
  },
  {
   "cell_type": "code",
   "execution_count": 116,
   "metadata": {},
   "outputs": [
    {
     "name": "stdout",
     "output_type": "stream",
     "text": [
      "1\n",
      "23\n",
      "456\n",
      "78910\n",
      "1112131415\n"
     ]
    }
   ],
   "source": [
    "def pattern13(n):\n",
    "    s = 0\n",
    "    for i in range(n):\n",
    "        for j in range(i+1):\n",
    "            s = s + 1\n",
    "            print(s, end =\"\")\n",
    "        print()\n",
    "pattern13(5)"
   ]
  },
  {
   "cell_type": "code",
   "execution_count": null,
   "metadata": {},
   "outputs": [],
   "source": [
    "A\n",
    "A B\n",
    "A B C\n",
    "A B C D"
   ]
  },
  {
   "cell_type": "code",
   "execution_count": 120,
   "metadata": {},
   "outputs": [
    {
     "data": {
      "text/plain": [
       "'A'"
      ]
     },
     "execution_count": 120,
     "metadata": {},
     "output_type": "execute_result"
    }
   ],
   "source": [
    "chr(65)"
   ]
  },
  {
   "cell_type": "code",
   "execution_count": 124,
   "metadata": {},
   "outputs": [
    {
     "name": "stdout",
     "output_type": "stream",
     "text": [
      "A\n",
      "AB\n",
      "ABC\n",
      "ABCD\n",
      "ABCDE\n"
     ]
    }
   ],
   "source": [
    "def pattern14(n):\n",
    "    for i in range(n):\n",
    "        for j in range(i+1):\n",
    "            print(chr(64+j+1), end =\"\")\n",
    "        print()\n",
    "pattern14(5)"
   ]
  },
  {
   "cell_type": "code",
   "execution_count": null,
   "metadata": {},
   "outputs": [],
   "source": [
    "    A\n",
    "  A B A\n",
    "A B C B A\n",
    "\n"
   ]
  },
  {
   "cell_type": "code",
   "execution_count": null,
   "metadata": {},
   "outputs": [],
   "source": [
    "2n -1\n",
    "2i+1\n",
    "2 1 2\n",
    "1 3 1\n",
    "0 5 0\n",
    "\n"
   ]
  },
  {
   "cell_type": "code",
   "execution_count": 136,
   "metadata": {},
   "outputs": [
    {
     "name": "stdout",
     "output_type": "stream",
     "text": [
      "    A    \n",
      "   BAB   \n",
      "  CBABC  \n",
      " DCBABCD \n"
     ]
    }
   ],
   "source": [
    "def pattern12(n):\n",
    "    for i in range(n):\n",
    "        for j in range(n-i):\n",
    "            print(\" \",end = \"\")\n",
    "        # for j in range(2*i+1):\n",
    "        #     print(\"*\", end = \"\")\n",
    "        for j in range(i):\n",
    "            print(chr(65+i-j),end = \"\")\n",
    "        print(\"A\",end =\"\")\n",
    "        for j in range(i):\n",
    "            print(chr(65+j+1),end = \"\")\n",
    "        for j in range(n-i):\n",
    "            print(\" \",end = \"\")\n",
    "        print()\n",
    "pattern12(4)\n",
    "            "
   ]
  },
  {
   "cell_type": "code",
   "execution_count": null,
   "metadata": {},
   "outputs": [],
   "source": [
    "E\n",
    "D E\n",
    "C D E\n",
    "B C D E\n",
    "A B C D E"
   ]
  },
  {
   "cell_type": "code",
   "execution_count": 139,
   "metadata": {},
   "outputs": [
    {
     "name": "stdout",
     "output_type": "stream",
     "text": [
      "E \n",
      "D E \n",
      "C D E \n",
      "B C D E \n",
      "A B C D E \n"
     ]
    }
   ],
   "source": [
    "def pattern15(n):\n",
    "    for i in range(n):\n",
    "        for j in range(i+1):\n",
    "            print(chr(69 - i + j),end =\" \")\n",
    "        print()\n",
    "\n",
    "pattern15(5)\n"
   ]
  },
  {
   "cell_type": "code",
   "execution_count": null,
   "metadata": {},
   "outputs": [],
   "source": [
    "Symmetry around 5:\n",
    "\n",
    "5  0  5\n",
    "4  2  4\n",
    "3  4  3\n",
    "2  6  2\n",
    "1  8  1"
   ]
  },
  {
   "cell_type": "code",
   "execution_count": null,
   "metadata": {},
   "outputs": [],
   "source": [
    "2n - n-1"
   ]
  },
  {
   "cell_type": "code",
   "execution_count": 153,
   "metadata": {},
   "outputs": [
    {
     "name": "stdout",
     "output_type": "stream",
     "text": [
      "**********\n",
      "****  ****\n",
      "***    ***\n",
      "**      **\n",
      "*        *\n",
      "*        *\n",
      "**      **\n",
      "***    ***\n",
      "****  ****\n",
      "**********\n"
     ]
    }
   ],
   "source": [
    "def pattern16(n):\n",
    "    for i in range(2*n):\n",
    "        if i <n:\n",
    "            for j in range(n-i):\n",
    "                print(\"*\", end = \"\")\n",
    "            for j in range(2*i):\n",
    "                print(\" \",end = \"\")\n",
    "            for j in range(n-i):\n",
    "                print(\"*\", end = \"\")\n",
    "        else:\n",
    "          for j in range(i + 1- n):\n",
    "            print(\"*\", end = \"\")\n",
    "          for j in range(2*(2*n -i-1)):\n",
    "            print(\" \",end = \"\")\n",
    "          for j in range(i+ 1 -n):\n",
    "            print(\"*\", end = \"\")\n",
    "        print()\n",
    "pattern16(5)\n",
    "        "
   ]
  },
  {
   "cell_type": "code",
   "execution_count": null,
   "metadata": {},
   "outputs": [],
   "source": [
    "1  8  1\n",
    "2  6  2\n",
    "3  4  3\n",
    "4  2  4\n",
    "5  0  5 "
   ]
  },
  {
   "cell_type": "code",
   "execution_count": 163,
   "metadata": {},
   "outputs": [
    {
     "name": "stdout",
     "output_type": "stream",
     "text": [
      "*        *\n",
      "**      **\n",
      "***    ***\n",
      "****  ****\n",
      "**********\n",
      "****  ****\n",
      "***    ***\n",
      "**      **\n",
      "*        *\n"
     ]
    }
   ],
   "source": [
    "for i in range(9):\n",
    "    if i <5:\n",
    "        for j in range(i+1):\n",
    "            print(\"*\", end = \"\")\n",
    "        for j in range(2*(5-i-1)):\n",
    "            print(\" \",end = \"\")\n",
    "        for j in range(i+1):\n",
    "            print(\"*\", end = \"\")\n",
    "    if i >=5:\n",
    "        for j in range(9 - i):\n",
    "            print(\"*\",end = \"\")\n",
    "        for j in range(2*(i-4)):\n",
    "            print(\" \",end = \"\")\n",
    "        for j in range(9 - i):\n",
    "            print(\"*\",end = \"\")\n",
    "    print()\n",
    "        \n"
   ]
  },
  {
   "cell_type": "code",
   "execution_count": null,
   "metadata": {},
   "outputs": [],
   "source": [
    "2 0 2\n",
    "1 2 1\n",
    "1 2 1\n",
    "2 0 2"
   ]
  },
  {
   "cell_type": "code",
   "execution_count": 167,
   "metadata": {},
   "outputs": [
    {
     "name": "stdout",
     "output_type": "stream",
     "text": [
      "****\n",
      "*  *\n",
      "*  *\n",
      "****\n"
     ]
    }
   ],
   "source": [
    "n =4\n",
    "for i in range(n):\n",
    "    if ((i == 0) | (i == n-1)):\n",
    "        for j in range(n):\n",
    "            print(\"*\", end = \"\")\n",
    "    else:\n",
    "        print(\"*\", end  = \"\")\n",
    "        for j in range(n-2):\n",
    "            print(\" \", end  = \"\")\n",
    "        print(\"*\", end = \"\")\n",
    "    print()\n",
    "    "
   ]
  },
  {
   "cell_type": "code",
   "execution_count": 174,
   "metadata": {},
   "outputs": [
    {
     "name": "stdout",
     "output_type": "stream",
     "text": [
      "4444444\n",
      "4333334\n",
      "4322234\n",
      "4321234\n",
      "4322234\n",
      "4333334\n",
      "4444444\n"
     ]
    }
   ],
   "source": [
    "def pattern20(n):\n",
    "    for i in range(2*n-1):\n",
    "        for j in range(2*n-1):\n",
    "            r = j\n",
    "            l = 2*n-2-j\n",
    "            u = i\n",
    "            w = 2*n -2 -i\n",
    "            sd  = min(r,l,u,w)\n",
    "            print(n -sd,end = \"\")\n",
    "        print()\n",
    "pattern20(4)"
   ]
  },
  {
   "cell_type": "code",
   "execution_count": 175,
   "metadata": {},
   "outputs": [],
   "source": [
    "import numpy as np"
   ]
  },
  {
   "cell_type": "code",
   "execution_count": 179,
   "metadata": {},
   "outputs": [
    {
     "data": {
      "text/plain": [
       "2"
      ]
     },
     "execution_count": 179,
     "metadata": {},
     "output_type": "execute_result"
    }
   ],
   "source": [
    "from collections import deque\n",
    "\n",
    "ar = deque([2,5,7])\n",
    "ar.popleft()"
   ]
  }
 ],
 "metadata": {
  "kernelspec": {
   "display_name": "base",
   "language": "python",
   "name": "python3"
  },
  "language_info": {
   "codemirror_mode": {
    "name": "ipython",
    "version": 3
   },
   "file_extension": ".py",
   "mimetype": "text/x-python",
   "name": "python",
   "nbconvert_exporter": "python",
   "pygments_lexer": "ipython3",
   "version": "3.9.12"
  }
 },
 "nbformat": 4,
 "nbformat_minor": 2
}
