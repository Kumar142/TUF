{
 "cells": [
  {
   "cell_type": "markdown",
   "metadata": {},
   "source": [
    "#### Extract the digits"
   ]
  },
  {
   "cell_type": "code",
   "execution_count": 2,
   "metadata": {},
   "outputs": [
    {
     "data": {
      "text/plain": [
       "[4, 7, 6, 5, 1]"
      ]
     },
     "execution_count": 2,
     "metadata": {},
     "output_type": "execute_result"
    }
   ],
   "source": [
    "def extractdigits(n):\n",
    "    digits = []\n",
    "    while n>0:\n",
    "        lastdigit = n % 10\n",
    "        digits.append(lastdigit)\n",
    "        n = n //10\n",
    "    return digits\n",
    "\n",
    "extractdigits(15674)"
   ]
  },
  {
   "cell_type": "markdown",
   "metadata": {},
   "source": [
    "#### Count the number of digits"
   ]
  },
  {
   "cell_type": "code",
   "execution_count": 10,
   "metadata": {},
   "outputs": [
    {
     "data": {
      "text/plain": [
       "7"
      ]
     },
     "execution_count": 10,
     "metadata": {},
     "output_type": "execute_result"
    }
   ],
   "source": [
    "import math\n",
    "def countdigit(n):\n",
    "    count = 0 \n",
    "    while n>0:\n",
    "        n = n //10\n",
    "        count+=1\n",
    "    return count\n",
    "\n",
    "countdigit(1574)\n",
    "\n",
    "def countdigit_bylog(n):\n",
    "    count = int(math.log10(n))+1\n",
    "    return count\n",
    "countdigit_bylog(2334545)\n",
    "\n",
    "\n",
    "\n"
   ]
  },
  {
   "cell_type": "markdown",
   "metadata": {},
   "source": [
    "#### Reverse Number"
   ]
  },
  {
   "cell_type": "code",
   "execution_count": 11,
   "metadata": {},
   "outputs": [
    {
     "data": {
      "text/plain": [
       "78565"
      ]
     },
     "execution_count": 11,
     "metadata": {},
     "output_type": "execute_result"
    }
   ],
   "source": [
    "def reversenumber(n):\n",
    "    revno = 0\n",
    "    while n>0:\n",
    "        r = n % 10\n",
    "        n = n //10\n",
    "        revno  = revno*10 + r\n",
    "    return revno\n",
    "reversenumber(56587)\n",
    "\n"
   ]
  },
  {
   "cell_type": "markdown",
   "metadata": {},
   "source": [
    "#### Pelindrome No"
   ]
  },
  {
   "cell_type": "code",
   "execution_count": 15,
   "metadata": {},
   "outputs": [
    {
     "data": {
      "text/plain": [
       "True"
      ]
     },
     "execution_count": 15,
     "metadata": {},
     "output_type": "execute_result"
    }
   ],
   "source": [
    "def pelindromenumber(n):\n",
    "    revno = 0\n",
    "    dup = n\n",
    "    while n>0:\n",
    "        r = n % 10\n",
    "        n = n //10\n",
    "        revno  = revno*10 + r\n",
    "    if dup == revno:\n",
    "        return True\n",
    "    else:\n",
    "        return False\n",
    "pelindromenumber(76967)"
   ]
  },
  {
   "cell_type": "markdown",
   "metadata": {},
   "source": [
    "#### Armstrong number"
   ]
  },
  {
   "cell_type": "code",
   "execution_count": 18,
   "metadata": {},
   "outputs": [
    {
     "data": {
      "text/plain": [
       "True"
      ]
     },
     "execution_count": 18,
     "metadata": {},
     "output_type": "execute_result"
    }
   ],
   "source": [
    "def armstrongno(n):\n",
    "    s = 0\n",
    "    dup = n\n",
    "    while n>0:\n",
    "        d = n % 10\n",
    "        s=  s + d*d*d\n",
    "        n = n // 10\n",
    "    if dup == s:\n",
    "        return True\n",
    "    else:\n",
    "        return False\n",
    "    \n",
    "armstrongno(371)\n",
    "    "
   ]
  },
  {
   "cell_type": "markdown",
   "metadata": {},
   "source": [
    "#### Diviser of a number"
   ]
  },
  {
   "cell_type": "code",
   "execution_count": 20,
   "metadata": {},
   "outputs": [
    {
     "name": "stdout",
     "output_type": "stream",
     "text": [
      "1\n",
      "2\n",
      "3\n",
      "4\n",
      "6\n",
      "9\n",
      "12\n",
      "18\n",
      "36\n"
     ]
    }
   ],
   "source": [
    "def deviserofnum_simpel(n):\n",
    "    for i in range(1,n+1):\n",
    "        if n % i == 0:\n",
    "            print(i)\n",
    "deviserofnum_simpel(36)"
   ]
  },
  {
   "cell_type": "code",
   "execution_count": 26,
   "metadata": {},
   "outputs": [
    {
     "data": {
      "text/plain": [
       "[1, 2, 3, 4, 6, 9, 12, 18, 36]"
      ]
     },
     "execution_count": 26,
     "metadata": {},
     "output_type": "execute_result"
    }
   ],
   "source": [
    "def deviserofnum_opt(n):\n",
    "    i = 1\n",
    "    res = []\n",
    "    while i*i<=n:\n",
    "        if n % i == 0:\n",
    "            res.append(i)\n",
    "            if n/i != i:\n",
    "                res.append(int(n/i))\n",
    "        i +=1\n",
    "    res = sorted(res)\n",
    "    return res\n",
    "deviserofnum_opt(36)"
   ]
  },
  {
   "cell_type": "markdown",
   "metadata": {},
   "source": [
    "#### Prime No"
   ]
  },
  {
   "cell_type": "code",
   "execution_count": 44,
   "metadata": {},
   "outputs": [
    {
     "data": {
      "text/plain": [
       "True"
      ]
     },
     "execution_count": 44,
     "metadata": {},
     "output_type": "execute_result"
    }
   ],
   "source": [
    "def primeno_1(n):\n",
    "    counter = 0\n",
    "    i = 1\n",
    "    while i*i <=n:\n",
    "        if n % i == 0:\n",
    "            counter +=1\n",
    "            if n % i != i:\n",
    "                counter +=1\n",
    "        i = i + 1\n",
    "    if counter  > 2:\n",
    "        return True\n",
    "    else:\n",
    "        return False\n",
    "primeno_1(17)\n",
    "\n",
    "\n",
    "def primeno_2(n):\n",
    "    if n <= 1:\n",
    "        return False\n",
    "    if n <=3:\n",
    "        return True\n",
    "    i = 2\n",
    "    while i*i <=n:\n",
    "        if n % i == 0:\n",
    "            return False\n",
    "        i = i + 1\n",
    "    return True\n",
    "primeno_2(37)\n"
   ]
  },
  {
   "cell_type": "markdown",
   "metadata": {},
   "source": [
    "#### HCF"
   ]
  },
  {
   "cell_type": "code",
   "execution_count": 50,
   "metadata": {},
   "outputs": [
    {
     "data": {
      "text/plain": [
       "15"
      ]
     },
     "execution_count": 50,
     "metadata": {},
     "output_type": "execute_result"
    }
   ],
   "source": [
    "def hcf_basic(a,b):\n",
    "    n = min(a,b)\n",
    "    result = 1\n",
    "    for i in range(1,n+1):\n",
    "        if a % i == 0 and b % i == 0:\n",
    "            result = i\n",
    "    return result\n",
    "\n",
    "hcf_basic(30,45)\n",
    "\n",
    "\n"
   ]
  },
  {
   "cell_type": "code",
   "execution_count": 48,
   "metadata": {},
   "outputs": [
    {
     "data": {
      "text/plain": [
       "10"
      ]
     },
     "execution_count": 48,
     "metadata": {},
     "output_type": "execute_result"
    }
   ],
   "source": [
    "def hcf_opt(a,b):\n",
    "    while (a > 0 and b >0):\n",
    "        if a >b:\n",
    "            a = a % b\n",
    "        else:\n",
    "            b = b % a\n",
    "    if a == 0:\n",
    "        return b\n",
    "    else:\n",
    "        return a\n",
    "\n",
    "hcf_opt(20,150)\n",
    "\n",
    "\n"
   ]
  },
  {
   "cell_type": "markdown",
   "metadata": {},
   "source": [
    "def hcf_opt()"
   ]
  }
 ],
 "metadata": {
  "kernelspec": {
   "display_name": "base",
   "language": "python",
   "name": "python3"
  },
  "language_info": {
   "codemirror_mode": {
    "name": "ipython",
    "version": 3
   },
   "file_extension": ".py",
   "mimetype": "text/x-python",
   "name": "python",
   "nbconvert_exporter": "python",
   "pygments_lexer": "ipython3",
   "version": "3.9.12"
  }
 },
 "nbformat": 4,
 "nbformat_minor": 2
}
