{
 "cells": [
  {
   "cell_type": "code",
   "execution_count": 4,
   "metadata": {},
   "outputs": [
    {
     "name": "stdout",
     "output_type": "stream",
     "text": [
      "1\n",
      "2\n",
      "3\n",
      "4\n",
      "5\n"
     ]
    }
   ],
   "source": [
    "def rec(num):\n",
    "    print(num)\n",
    "    if num == 5:\n",
    "        return\n",
    "    num = num + 1\n",
    "    rec(num)\n",
    "\n",
    "rec(1)"
   ]
  },
  {
   "cell_type": "markdown",
   "metadata": {},
   "source": [
    "#### Print name n times"
   ]
  },
  {
   "cell_type": "code",
   "execution_count": 5,
   "metadata": {},
   "outputs": [],
   "source": [
    "def name_n_times(n,i):\n",
    "    if i > n:\n",
    "        return\n",
    "    print(\"Kumar\")\n",
    "    name_n_times(5,i+1)"
   ]
  },
  {
   "cell_type": "code",
   "execution_count": 7,
   "metadata": {},
   "outputs": [],
   "source": [
    "def print_name(name, n):\n",
    "    if n == 0:\n",
    "        return\n",
    "    print(name)\n",
    "    print_name(name, n - 1)"
   ]
  },
  {
   "cell_type": "code",
   "execution_count": 8,
   "metadata": {},
   "outputs": [
    {
     "name": "stdout",
     "output_type": "stream",
     "text": [
      "Gaurav\n",
      "Gaurav\n",
      "Gaurav\n",
      "Gaurav\n",
      "Gaurav\n"
     ]
    }
   ],
   "source": [
    "print_name(\"Gaurav\",5)"
   ]
  },
  {
   "cell_type": "markdown",
   "metadata": {},
   "source": [
    "#### Print 1 to n"
   ]
  },
  {
   "cell_type": "code",
   "execution_count": 12,
   "metadata": {},
   "outputs": [
    {
     "name": "stdout",
     "output_type": "stream",
     "text": [
      "1\n",
      "2\n",
      "3\n",
      "4\n",
      "5\n",
      "6\n",
      "7\n",
      "8\n",
      "9\n",
      "10\n"
     ]
    }
   ],
   "source": [
    "def print_n(n,s=0):\n",
    "    if n==0:\n",
    "        return\n",
    "    print(s+1)\n",
    "    print_n(n-1,s+1)\n",
    "print_n(10)"
   ]
  },
  {
   "cell_type": "code",
   "execution_count": 13,
   "metadata": {},
   "outputs": [
    {
     "name": "stdout",
     "output_type": "stream",
     "text": [
      "1\n",
      "2\n",
      "3\n",
      "4\n",
      "5\n",
      "6\n"
     ]
    }
   ],
   "source": [
    "def print_1_to_n(n):\n",
    "    if n == 0:\n",
    "        return\n",
    "    print_1_to_n(n - 1)\n",
    "    print(n)\n",
    "\n",
    "print_1_to_n(6)"
   ]
  },
  {
   "cell_type": "markdown",
   "metadata": {},
   "source": [
    "#### Sum of n numbers"
   ]
  },
  {
   "cell_type": "code",
   "execution_count": 10,
   "metadata": {},
   "outputs": [
    {
     "name": "stdout",
     "output_type": "stream",
     "text": [
      "10\n",
      "10\n"
     ]
    }
   ],
   "source": [
    "def sumN(n , s):\n",
    "    if n == 0:\n",
    "        print(s)\n",
    "        return s\n",
    "    return sumN(n-1,s+n)\n",
    "\n",
    "S = sumN(0,10)\n",
    "print(S)\n",
    "\n",
    "# 4 -> (4,0)\n",
    "#   -> (3,4) -> (2, 7) -> (1, 9) -> (0, 10)\n"
   ]
  },
  {
   "cell_type": "markdown",
   "metadata": {},
   "source": [
    "#### Factorial of n"
   ]
  },
  {
   "cell_type": "code",
   "execution_count": 11,
   "metadata": {},
   "outputs": [
    {
     "data": {
      "text/plain": [
       "120"
      ]
     },
     "execution_count": 11,
     "metadata": {},
     "output_type": "execute_result"
    }
   ],
   "source": [
    "def factorialN(n):\n",
    "    if n == 0 or n ==1:\n",
    "        return 1\n",
    "    else:\n",
    "        return n*factorialN(n-1)\n",
    "\n",
    "factorialN(5)"
   ]
  },
  {
   "cell_type": "markdown",
   "metadata": {},
   "source": [
    "#### Reverse a number\n"
   ]
  },
  {
   "cell_type": "markdown",
   "metadata": {},
   "source": [
    "##### Two pointers approach"
   ]
  },
  {
   "cell_type": "code",
   "execution_count": 12,
   "metadata": {},
   "outputs": [
    {
     "data": {
      "text/plain": [
       "[4, 2, 3, 4, 3, 2, 1]"
      ]
     },
     "execution_count": 12,
     "metadata": {},
     "output_type": "execute_result"
    }
   ],
   "source": [
    "def reverse_array(arr, i ,j):\n",
    "    if i == j:\n",
    "        return arr\n",
    "    tmp = arr[i]\n",
    "    arr[i] = arr[j]\n",
    "    arr[j] = tmp\n",
    "    return reverse_array(arr,i+1,j-1)\n",
    "\n",
    "reverse_array([1,2,3,4,3,2,4],0,6)"
   ]
  },
  {
   "cell_type": "markdown",
   "metadata": {},
   "source": [
    "##### One pointer approach"
   ]
  },
  {
   "cell_type": "code",
   "execution_count": 16,
   "metadata": {},
   "outputs": [
    {
     "data": {
      "text/plain": [
       "[7, 4, 2, 3, 4, 3, 2, 1]"
      ]
     },
     "execution_count": 16,
     "metadata": {},
     "output_type": "execute_result"
    }
   ],
   "source": [
    "def reverse_array(arr, i):\n",
    "    n = len(arr)\n",
    "    if i >= n//2:\n",
    "        return arr\n",
    "    tmp = arr[i]\n",
    "    arr[i] = arr[n-i-1]\n",
    "    arr[n-i-1] = tmp\n",
    "    return reverse_array(arr,i+1)\n",
    "\n",
    "reverse_array([1,2,3,4,3,2,4,7],0)"
   ]
  },
  {
   "cell_type": "markdown",
   "metadata": {},
   "source": [
    "#####  Pelindrome Number"
   ]
  },
  {
   "cell_type": "code",
   "execution_count": 21,
   "metadata": {},
   "outputs": [
    {
     "data": {
      "text/plain": [
       "False"
      ]
     },
     "execution_count": 21,
     "metadata": {},
     "output_type": "execute_result"
    }
   ],
   "source": [
    "def pelindrom_number(text, i):\n",
    "    n = len(text)\n",
    "    if i >= n//2:\n",
    "        return True\n",
    "    if text[i] != text[n-i-1]:\n",
    "        return False\n",
    "    return pelindrom_number(text,i+1)\n",
    "\n",
    "pelindrom_number(\"59065\",0)\n"
   ]
  },
  {
   "cell_type": "markdown",
   "metadata": {},
   "source": [
    "#### Fibonaci Series"
   ]
  },
  {
   "cell_type": "code",
   "execution_count": 42,
   "metadata": {},
   "outputs": [
    {
     "data": {
      "text/plain": [
       "55"
      ]
     },
     "execution_count": 42,
     "metadata": {},
     "output_type": "execute_result"
    }
   ],
   "source": [
    "def fabonaci(n):\n",
    "    if n <=1:\n",
    "        return n\n",
    "    return fabonaci(n-1)+fabonaci(n-2)\n",
    "\n",
    "fabonaci(10)"
   ]
  },
  {
   "cell_type": "code",
   "execution_count": 44,
   "metadata": {},
   "outputs": [
    {
     "data": {
      "text/plain": [
       "[0, 1, 1, 2, 3, 5, 8, 13, 21, 34]"
      ]
     },
     "execution_count": 44,
     "metadata": {},
     "output_type": "execute_result"
    }
   ],
   "source": [
    "def fabn(n):\n",
    "    a = 0\n",
    "    b = 1\n",
    "    if n <=1:\n",
    "        return n\n",
    "    lst = [0,1]\n",
    "    for i in range(2,n):\n",
    "        tmp = b\n",
    "        b = a+ b\n",
    "        a = tmp\n",
    "        lst.append(b)\n",
    "    return lst\n",
    "\n",
    "fabn(10)\n"
   ]
  },
  {
   "cell_type": "code",
   "execution_count": 46,
   "metadata": {},
   "outputs": [
    {
     "data": {
      "text/plain": [
       "[0, 1, 1, 2, 3, 5, 8, 13, 21, 34]"
      ]
     },
     "execution_count": 46,
     "metadata": {},
     "output_type": "execute_result"
    }
   ],
   "source": [
    "def fun(n):\n",
    "    a = 0\n",
    "    b = 1\n",
    "    result = []\n",
    "    for i in range(n):        \n",
    "        result.append(a)\n",
    "        tmp = b\n",
    "        b = a + b\n",
    "        a = tmp\n",
    "    return result\n",
    "\n",
    "fun(10)\n"
   ]
  }
 ],
 "metadata": {
  "kernelspec": {
   "display_name": "base",
   "language": "python",
   "name": "python3"
  },
  "language_info": {
   "codemirror_mode": {
    "name": "ipython",
    "version": 3
   },
   "file_extension": ".py",
   "mimetype": "text/x-python",
   "name": "python",
   "nbconvert_exporter": "python",
   "pygments_lexer": "ipython3",
   "version": "3.9.12"
  }
 },
 "nbformat": 4,
 "nbformat_minor": 2
}
